{
 "cells": [
  {
   "cell_type": "code",
   "execution_count": 2,
   "metadata": {},
   "outputs": [],
   "source": [
    "import os\n",
    "import re\n",
    "files = [file for file in os.listdir('./') if re.match(\"^\\d+.csv$\", file) is not None]\n",
    "\n",
    "files\n",
    "\n",
    "import pandas as pd\n",
    "errorFile = open('error.csv', 'w')\n",
    "errorFile.write('param, error\\n')\n",
    "for file in files:\n",
    "    df = pd.read_csv(file)\n",
    "    errorFile.write(file[:-4]+','+str(df['error'].value_counts()['+'])+'\\n')\n",
    "errorFile.close()"
   ]
  },
  {
   "cell_type": "code",
   "execution_count": null,
   "metadata": {},
   "outputs": [],
   "source": []
  }
 ],
 "metadata": {
  "kernelspec": {
   "display_name": "Python 3",
   "language": "python",
   "name": "python3"
  },
  "language_info": {
   "codemirror_mode": {
    "name": "ipython",
    "version": 3
   },
   "file_extension": ".py",
   "mimetype": "text/x-python",
   "name": "python",
   "nbconvert_exporter": "python",
   "pygments_lexer": "ipython3",
   "version": "3.5.2"
  }
 },
 "nbformat": 4,
 "nbformat_minor": 2
}
