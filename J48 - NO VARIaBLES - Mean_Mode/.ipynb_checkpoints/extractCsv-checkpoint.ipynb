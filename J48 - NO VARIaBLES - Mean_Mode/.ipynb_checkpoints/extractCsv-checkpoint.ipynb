{
 "cells": [
  {
   "cell_type": "code",
   "execution_count": 13,
   "metadata": {},
   "outputs": [],
   "source": [
    "import os\n",
    "import re\n",
    "files = [file for file in os.listdir('./') if re.match(\"^\\d+$\", file) is not None]"
   ]
  },
  {
   "cell_type": "code",
   "execution_count": 14,
   "metadata": {},
   "outputs": [
    {
     "data": {
      "text/plain": [
       "['2', '35', '45', '1', '5', '15', '4', '3', '25']"
      ]
     },
     "execution_count": 14,
     "metadata": {},
     "output_type": "execute_result"
    }
   ],
   "source": [
    "files"
   ]
  },
  {
   "cell_type": "code",
   "execution_count": 20,
   "metadata": {},
   "outputs": [],
   "source": [
    "for file in files:\n",
    "    f = open(file, 'r')\n",
    "    csv = open(file+'.csv', 'w')\n",
    "    lines = f.readlines()\n",
    "    csvLines = []\n",
    "    isCsv = False\n",
    "    for line in lines:\n",
    "        if isCsv and line[0] == '=':\n",
    "            isCsv = False\n",
    "        if isCsv:\n",
    "            csvLines.append(line)\n",
    "        if line == '=== Predictions on test set ===\\n':\n",
    "            isCsv = True\n",
    "    csv.write(''.join(csvLines))"
   ]
  },
  {
   "cell_type": "code",
   "execution_count": null,
   "metadata": {},
   "outputs": [],
   "source": []
  }
 ],
 "metadata": {
  "kernelspec": {
   "display_name": "Python 3",
   "language": "python",
   "name": "python3"
  },
  "language_info": {
   "codemirror_mode": {
    "name": "ipython",
    "version": 3
   },
   "file_extension": ".py",
   "mimetype": "text/x-python",
   "name": "python",
   "nbconvert_exporter": "python",
   "pygments_lexer": "ipython3",
   "version": "3.5.2"
  }
 },
 "nbformat": 4,
 "nbformat_minor": 2
}
